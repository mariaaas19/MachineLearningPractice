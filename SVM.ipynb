{
 "cells": [
  {
   "cell_type": "code",
   "execution_count": 1,
   "metadata": {},
   "outputs": [],
   "source": [
    "import pandas as pd\n",
    "import numpy as np\n",
    "import matplotlib.pyplot\n",
    "from sklearn.preprocessing import StandardScaler\n",
    "from sklearn.model_selection import train_test_split"
   ]
  },
  {
   "cell_type": "code",
   "execution_count": 2,
   "metadata": {},
   "outputs": [
    {
     "data": {
      "text/html": [
       "<div>\n",
       "<style scoped>\n",
       "    .dataframe tbody tr th:only-of-type {\n",
       "        vertical-align: middle;\n",
       "    }\n",
       "\n",
       "    .dataframe tbody tr th {\n",
       "        vertical-align: top;\n",
       "    }\n",
       "\n",
       "    .dataframe thead th {\n",
       "        text-align: right;\n",
       "    }\n",
       "</style>\n",
       "<table border=\"1\" class=\"dataframe\">\n",
       "  <thead>\n",
       "    <tr style=\"text-align: right;\">\n",
       "      <th></th>\n",
       "      <th>Age</th>\n",
       "      <th>EstimatedSalary</th>\n",
       "      <th>Purchased</th>\n",
       "    </tr>\n",
       "  </thead>\n",
       "  <tbody>\n",
       "    <tr>\n",
       "      <th>0</th>\n",
       "      <td>19</td>\n",
       "      <td>19000</td>\n",
       "      <td>0</td>\n",
       "    </tr>\n",
       "    <tr>\n",
       "      <th>1</th>\n",
       "      <td>35</td>\n",
       "      <td>20000</td>\n",
       "      <td>0</td>\n",
       "    </tr>\n",
       "    <tr>\n",
       "      <th>2</th>\n",
       "      <td>26</td>\n",
       "      <td>43000</td>\n",
       "      <td>0</td>\n",
       "    </tr>\n",
       "    <tr>\n",
       "      <th>3</th>\n",
       "      <td>27</td>\n",
       "      <td>57000</td>\n",
       "      <td>0</td>\n",
       "    </tr>\n",
       "    <tr>\n",
       "      <th>4</th>\n",
       "      <td>19</td>\n",
       "      <td>76000</td>\n",
       "      <td>0</td>\n",
       "    </tr>\n",
       "  </tbody>\n",
       "</table>\n",
       "</div>"
      ],
      "text/plain": [
       "   Age  EstimatedSalary  Purchased\n",
       "0   19            19000          0\n",
       "1   35            20000          0\n",
       "2   26            43000          0\n",
       "3   27            57000          0\n",
       "4   19            76000          0"
      ]
     },
     "execution_count": 2,
     "metadata": {},
     "output_type": "execute_result"
    }
   ],
   "source": [
    "data = pd.read_csv(r\"C:\\Users\\Maria Munir Stokes\\Documents\\DS Courses\\Udemy\\drive-download-20200629T190417Z-001\\Part 3 - Classification\\Section 16 - Support Vector Machine (SVM)\\Python\\Social_Network_Ads.csv\")\n",
    "data.head()"
   ]
  },
  {
   "cell_type": "code",
   "execution_count": 3,
   "metadata": {},
   "outputs": [
    {
     "name": "stdout",
     "output_type": "stream",
     "text": [
      "400 400\n"
     ]
    }
   ],
   "source": [
    "x = data.iloc[:,:-1].values\n",
    "y = data.iloc[:,-1].values\n",
    "print(len(x),len(y))"
   ]
  },
  {
   "cell_type": "code",
   "execution_count": 4,
   "metadata": {},
   "outputs": [
    {
     "name": "stdout",
     "output_type": "stream",
     "text": [
      "320\n",
      "80\n",
      "320\n",
      "80\n"
     ]
    }
   ],
   "source": [
    "x_train,x_test,y_train,y_test = train_test_split(x,y,test_size = 0.2, random_state =0)\n",
    "print(len(x_train))\n",
    "print(len(x_test))\n",
    "print(len(y_train))\n",
    "print(len(y_test))"
   ]
  },
  {
   "cell_type": "code",
   "execution_count": 6,
   "metadata": {},
   "outputs": [
    {
     "name": "stdout",
     "output_type": "stream",
     "text": [
      "[[-7.98950822e-01  4.94607583e-01]\n",
      " [-2.12648508e-02 -5.77359062e-01]\n",
      " [-3.12897090e-01  1.46942725e-01]\n",
      " [-7.98950822e-01  2.62831011e-01]\n",
      " [-3.12897090e-01 -5.77359062e-01]\n",
      " [-1.09058306e+00 -1.44652121e+00]\n",
      " [-7.01740076e-01 -1.59138156e+00]\n",
      " [-2.15686344e-01  2.14601566e+00]\n",
      " [-1.96547978e+00 -5.58617754e-02]\n",
      " [ 8.53631867e-01 -7.80163563e-01]\n",
      " [-7.98950822e-01 -6.06331134e-01]\n",
      " [-9.93372315e-01 -4.32498705e-01]\n",
      " [-1.18475597e-01 -4.32498705e-01]\n",
      " [ 7.59458956e-02  2.04886868e-01]\n",
      " [-1.77105829e+00  4.65635512e-01]\n",
      " [-6.04529329e-01  1.36376973e+00]\n",
      " [-1.18475597e-01  2.04886868e-01]\n",
      " [-1.86826903e+00  4.36663440e-01]\n",
      " [ 1.63131784e+00  1.74040666e+00]\n",
      " [-3.12897090e-01 -1.38857706e+00]\n",
      " [-3.12897090e-01 -6.64275277e-01]\n",
      " [ 8.53631867e-01  2.14601566e+00]\n",
      " [ 2.70367388e-01 -5.48386991e-01]\n",
      " [ 8.53631867e-01  1.01610487e+00]\n",
      " [-1.47942605e+00 -1.21474464e+00]\n",
      " [ 1.04805336e+00  2.05909944e+00]\n",
      " [-9.93372315e-01  4.94607583e-01]\n",
      " [-8.96161568e-01  2.91803083e-01]\n",
      " [-1.18475597e-01 -2.29694204e-01]\n",
      " [-6.04529329e-01  4.65635512e-01]\n",
      " [-1.67384754e+00  5.23579655e-01]\n",
      " [-1.18475597e-01  2.62831011e-01]\n",
      " [ 1.82573933e+00 -2.87638347e-01]\n",
      " [-1.18475597e-01 -4.90442848e-01]\n",
      " [-1.38221530e+00 -3.45582490e-01]\n",
      " [-1.96547978e+00 -5.19414919e-01]\n",
      " [-1.57663679e+00  3.20775154e-01]\n",
      " [-4.10107836e-01 -7.80163563e-01]\n",
      " [-7.01740076e-01 -1.04091221e+00]\n",
      " [ 1.04805336e+00 -9.82968063e-01]\n",
      " [-1.09058306e+00  5.23579655e-01]\n",
      " [ 2.70367388e-01 -5.19414919e-01]\n",
      " [-1.09058306e+00  4.07691369e-01]\n",
      " [-3.12897090e-01 -1.44652121e+00]\n",
      " [ 4.64788881e-01  1.21890937e+00]\n",
      " [-1.09058306e+00 -3.45582490e-01]\n",
      " [-1.18475597e-01  2.91803083e-01]\n",
      " [ 1.33968560e+00  5.81523798e-01]\n",
      " [-1.18779381e+00 -1.15680049e+00]\n",
      " [ 1.04805336e+00  4.65635512e-01]\n",
      " [ 1.82573933e+00  1.50863009e+00]\n",
      " [-4.10107836e-01 -1.30166085e+00]\n",
      " [-3.12897090e-01 -3.74554562e-01]\n",
      " [-4.10107836e-01  1.30582558e+00]\n",
      " [ 2.02016082e+00  5.23579655e-01]\n",
      " [ 6.59210374e-01 -1.09885635e+00]\n",
      " [-8.96161568e-01  3.78719297e-01]\n",
      " [-1.18779381e+00  2.91803083e-01]\n",
      " [ 1.04805336e+00 -1.21474464e+00]\n",
      " [-1.47942605e+00 -1.44652121e+00]\n",
      " [-6.04529329e-01 -1.50446535e+00]\n",
      " [ 2.11737157e+00 -8.09135634e-01]\n",
      " [-1.86826903e+00  1.75914797e-01]\n",
      " [-2.15686344e-01  8.42272441e-01]\n",
      " [-1.86826903e+00 -1.27268878e+00]\n",
      " [ 2.11737157e+00  3.78719297e-01]\n",
      " [-1.38221530e+00  5.52551726e-01]\n",
      " [-1.09058306e+00 -3.45582490e-01]\n",
      " [ 1.73156642e-01 -6.64275277e-01]\n",
      " [ 3.67578135e-01  2.08236764e-03]\n",
      " [-6.04529329e-01  2.31984809e+00]\n",
      " [-3.12897090e-01  2.04886868e-01]\n",
      " [-1.57663679e+00 -2.00722133e-01]\n",
      " [ 6.59210374e-01 -1.38857706e+00]\n",
      " [-1.09058306e+00  5.52551726e-01]\n",
      " [-1.96547978e+00  3.49747226e-01]\n",
      " [ 3.67578135e-01  2.62831011e-01]\n",
      " [ 1.73156642e-01 -2.87638347e-01]\n",
      " [ 1.43689635e+00 -1.04091221e+00]\n",
      " [ 8.53631867e-01  1.07404901e+00]]\n"
     ]
    }
   ],
   "source": [
    "# scaling the values\n",
    "scaler = StandardScaler()\n",
    "scaled_x_train = scaler.fit_transform(x_train)\n",
    "scaled_x_test = scaler.transform(x_test)\n",
    "#print(scaled_x_test)"
   ]
  },
  {
   "cell_type": "code",
   "execution_count": 7,
   "metadata": {},
   "outputs": [],
   "source": [
    "from sklearn.svm import SVC\n",
    "classifier = SVC(kernel = 'linear',random_state = 0)"
   ]
  },
  {
   "cell_type": "code",
   "execution_count": 8,
   "metadata": {},
   "outputs": [
    {
     "data": {
      "text/plain": [
       "SVC(kernel='linear', random_state=0)"
      ]
     },
     "execution_count": 8,
     "metadata": {},
     "output_type": "execute_result"
    }
   ],
   "source": [
    "classifier.fit(scaled_x_train,y_train)"
   ]
  },
  {
   "cell_type": "code",
   "execution_count": 10,
   "metadata": {},
   "outputs": [
    {
     "name": "stdout",
     "output_type": "stream",
     "text": [
      "[0 0 0 0 0 0 0 1 0 0 0 0 0 0 0 0 0 0 1 0 0 1 0 1 0 1 0 0 0 0 0 0 1 0 0 0 0\n",
      " 0 0 0 0 0 0 0 1 0 0 1 0 1 1 0 0 0 1 0 0 0 0 0 0 1 0 0 0 1 0 0 0 0 1 0 0 0\n",
      " 0 0 1 0 1 1]\n",
      "[[0 0]\n",
      " [0 0]\n",
      " [0 0]\n",
      " [0 0]\n",
      " [0 0]\n",
      " [0 0]\n",
      " [0 0]\n",
      " [1 1]\n",
      " [0 0]\n",
      " [0 0]\n",
      " [0 0]\n",
      " [0 0]\n",
      " [0 0]\n",
      " [0 0]\n",
      " [0 0]\n",
      " [0 0]\n",
      " [0 0]\n",
      " [0 0]\n",
      " [1 1]\n",
      " [0 0]\n",
      " [0 0]\n",
      " [1 1]\n",
      " [0 0]\n",
      " [1 1]\n",
      " [0 0]\n",
      " [1 1]\n",
      " [0 0]\n",
      " [0 0]\n",
      " [0 0]\n",
      " [0 0]\n",
      " [0 0]\n",
      " [0 1]\n",
      " [1 1]\n",
      " [0 0]\n",
      " [0 0]\n",
      " [0 0]\n",
      " [0 0]\n",
      " [0 0]\n",
      " [0 0]\n",
      " [0 1]\n",
      " [0 0]\n",
      " [0 0]\n",
      " [0 0]\n",
      " [0 0]\n",
      " [1 1]\n",
      " [0 0]\n",
      " [0 0]\n",
      " [1 1]\n",
      " [0 0]\n",
      " [1 1]\n",
      " [1 1]\n",
      " [0 0]\n",
      " [0 0]\n",
      " [0 0]\n",
      " [1 1]\n",
      " [0 1]\n",
      " [0 0]\n",
      " [0 0]\n",
      " [0 1]\n",
      " [0 0]\n",
      " [0 0]\n",
      " [1 1]\n",
      " [0 0]\n",
      " [0 1]\n",
      " [0 0]\n",
      " [1 1]\n",
      " [0 0]\n",
      " [0 0]\n",
      " [0 0]\n",
      " [0 0]\n",
      " [1 1]\n",
      " [0 0]\n",
      " [0 0]\n",
      " [0 1]\n",
      " [0 0]\n",
      " [0 0]\n",
      " [1 0]\n",
      " [0 0]\n",
      " [1 1]\n",
      " [1 1]]\n"
     ]
    }
   ],
   "source": [
    "predict = classifier.predict(scaled_x_test)\n",
    "print(predict)\n",
    "print(np.concatenate((predict.reshape(len(predict),1), y_test.reshape(len(y_test),1)),1))"
   ]
  },
  {
   "cell_type": "code",
   "execution_count": 14,
   "metadata": {},
   "outputs": [
    {
     "name": "stdout",
     "output_type": "stream",
     "text": [
      "[[57  1]\n",
      " [ 6 16]]\n",
      "0.9125\n"
     ]
    }
   ],
   "source": [
    "from sklearn.metrics import confusion_matrix,accuracy_score\n",
    "cm = confusion_matrix(y_test,predict)\n",
    "score = accuracy_score(y_test,predict)\n",
    "print(cm)\n",
    "print(score)"
   ]
  },
  {
   "cell_type": "code",
   "execution_count": 15,
   "metadata": {},
   "outputs": [
    {
     "data": {
      "text/plain": [
       "0.9125"
      ]
     },
     "execution_count": 15,
     "metadata": {},
     "output_type": "execute_result"
    }
   ],
   "source": [
    "(57+16)/(57+1+6+16)"
   ]
  },
  {
   "cell_type": "code",
   "execution_count": null,
   "metadata": {},
   "outputs": [],
   "source": []
  }
 ],
 "metadata": {
  "kernelspec": {
   "display_name": "Python 3",
   "language": "python",
   "name": "python3"
  },
  "language_info": {
   "codemirror_mode": {
    "name": "ipython",
    "version": 3
   },
   "file_extension": ".py",
   "mimetype": "text/x-python",
   "name": "python",
   "nbconvert_exporter": "python",
   "pygments_lexer": "ipython3",
   "version": "3.7.6"
  }
 },
 "nbformat": 4,
 "nbformat_minor": 4
}

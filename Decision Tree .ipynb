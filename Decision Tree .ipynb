{
 "cells": [
  {
   "cell_type": "code",
   "execution_count": 12,
   "metadata": {},
   "outputs": [],
   "source": [
    "import pandas as pd\n",
    "import numpy as np\n",
    "import matplotlib.pyplot as plt"
   ]
  },
  {
   "cell_type": "code",
   "execution_count": 13,
   "metadata": {},
   "outputs": [
    {
     "data": {
      "text/html": [
       "<div>\n",
       "<style scoped>\n",
       "    .dataframe tbody tr th:only-of-type {\n",
       "        vertical-align: middle;\n",
       "    }\n",
       "\n",
       "    .dataframe tbody tr th {\n",
       "        vertical-align: top;\n",
       "    }\n",
       "\n",
       "    .dataframe thead th {\n",
       "        text-align: right;\n",
       "    }\n",
       "</style>\n",
       "<table border=\"1\" class=\"dataframe\">\n",
       "  <thead>\n",
       "    <tr style=\"text-align: right;\">\n",
       "      <th></th>\n",
       "      <th>Position</th>\n",
       "      <th>Level</th>\n",
       "      <th>Salary</th>\n",
       "    </tr>\n",
       "  </thead>\n",
       "  <tbody>\n",
       "    <tr>\n",
       "      <th>0</th>\n",
       "      <td>Business Analyst</td>\n",
       "      <td>1</td>\n",
       "      <td>45000</td>\n",
       "    </tr>\n",
       "    <tr>\n",
       "      <th>1</th>\n",
       "      <td>Junior Consultant</td>\n",
       "      <td>2</td>\n",
       "      <td>50000</td>\n",
       "    </tr>\n",
       "    <tr>\n",
       "      <th>2</th>\n",
       "      <td>Senior Consultant</td>\n",
       "      <td>3</td>\n",
       "      <td>60000</td>\n",
       "    </tr>\n",
       "    <tr>\n",
       "      <th>3</th>\n",
       "      <td>Manager</td>\n",
       "      <td>4</td>\n",
       "      <td>80000</td>\n",
       "    </tr>\n",
       "    <tr>\n",
       "      <th>4</th>\n",
       "      <td>Country Manager</td>\n",
       "      <td>5</td>\n",
       "      <td>110000</td>\n",
       "    </tr>\n",
       "  </tbody>\n",
       "</table>\n",
       "</div>"
      ],
      "text/plain": [
       "            Position  Level  Salary\n",
       "0   Business Analyst      1   45000\n",
       "1  Junior Consultant      2   50000\n",
       "2  Senior Consultant      3   60000\n",
       "3            Manager      4   80000\n",
       "4    Country Manager      5  110000"
      ]
     },
     "execution_count": 13,
     "metadata": {},
     "output_type": "execute_result"
    }
   ],
   "source": [
    "data = pd.read_csv(r\"C:\\Users\\Maria Munir Stokes\\Documents\\DS Courses\\Udemy\\drive-download-20200629T190417Z-001\\Part 2 - Regression\\Section 8 - Decision Tree Regression\\Python\\Position_Salaries.csv\")\n",
    "data.head()"
   ]
  },
  {
   "cell_type": "code",
   "execution_count": 14,
   "metadata": {},
   "outputs": [
    {
     "name": "stdout",
     "output_type": "stream",
     "text": [
      "[ 1  2  3  4  5  6  7  8  9 10]\n",
      "[  45000   50000   60000   80000  110000  150000  200000  300000  500000\n",
      " 1000000]\n"
     ]
    }
   ],
   "source": [
    "x = data.iloc[:,1].values\n",
    "y = data.iloc[:,-1].values\n",
    "print(x)\n",
    "print(y)"
   ]
  },
  {
   "cell_type": "code",
   "execution_count": 15,
   "metadata": {},
   "outputs": [
    {
     "data": {
      "text/plain": [
       "DecisionTreeRegressor(random_state=0)"
      ]
     },
     "execution_count": 15,
     "metadata": {},
     "output_type": "execute_result"
    }
   ],
   "source": [
    "from sklearn.tree import DecisionTreeRegressor\n",
    "regressor = DecisionTreeRegressor(random_state = 0)\n",
    "\n",
    "x = x.reshape(-1,1)\n",
    "y = y.reshape(-1,1)\n",
    "regressor.fit(x,y)"
   ]
  },
  {
   "cell_type": "code",
   "execution_count": 16,
   "metadata": {},
   "outputs": [
    {
     "data": {
      "text/plain": [
       "array([150000.])"
      ]
     },
     "execution_count": 16,
     "metadata": {},
     "output_type": "execute_result"
    }
   ],
   "source": [
    "regressor.predict([[6.5]])"
   ]
  },
  {
   "cell_type": "code",
   "execution_count": 24,
   "metadata": {},
   "outputs": [
    {
     "data": {
      "text/plain": [
       "[<matplotlib.lines.Line2D at 0x1a4afddd348>]"
      ]
     },
     "execution_count": 24,
     "metadata": {},
     "output_type": "execute_result"
    },
    {
     "data": {
      "image/png": "[encoded data removed]",
      "text/plain": [
       "<Figure size 432x288 with 1 Axes>"
      ]
     },
     "metadata": {
      "needs_background": "light"
     },
     "output_type": "display_data"
    }
   ],
   "source": [
    "x_grid = np.arange(min(x),max(x),0.1)\n",
    "x_grid = xdata:image/png;base64,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_grid.reshape(len(x_grid),1)\n",
    "plt.scatter(x,y)\n",
    "plt.title('Decision Tree Regression')\n",
    "plt.xticks(x)\n",
    "plt.xlabel('Level')\n",
    "plt.ylabel('Salary')\n",
    "plt.plot(x_grid, regressor.predict(x_grid))"
   ]
  },
  {
   "cell_type": "code",
   "execution_count": null,
   "metadata": {},
   "outputs": [],
   "source": []
  }
 ],
 "metadata": {
  "kernelspec": {
   "display_name": "Python 3",
   "language": "python",
   "name": "python3"
  },
  "language_info": {
   "codemirror_mode": {
    "name": "ipython",
    "version": 3
   },
   "file_extension": ".py",
   "mimetype": "text/x-python",
   "name": "python",
   "nbconvert_exporter": "python",
   "pygments_lexer": "ipython3",
   "version": "3.7.6"
  }
 },
 "nbformat": 4,
 "nbformat_minor": 4
}
